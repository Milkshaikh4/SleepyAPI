{
 "cells": [
  {
   "cell_type": "code",
   "execution_count": 2,
   "metadata": {},
   "outputs": [],
   "source": [
    "# Reference: https://github.com/bilguun/Singapore_Dengue"
   ]
  },
  {
   "cell_type": "code",
   "execution_count": null,
   "metadata": {},
   "outputs": [],
   "source": [
    "# Import relevant modules\n",
    "import pandas as pd\n",
    "import numpy as np\n",
    "import matplotlib.pylab as plt\n",
    "import matplotlib.image as mpimg\n",
    "import itertools\n",
    "import numpy"
   ]
  },
  {
   "cell_type": "code",
   "execution_count": 3,
   "metadata": {},
   "outputs": [],
   "source": [
    "def feature_to_array(file_n):\n",
    "    im = mpimg.imread(file_n)  \n",
    "    im_greyscale = rgb2gray(im)   \n",
    "    imarray = numpy.array(im_greyscale)\n",
    "    feature=[i for a in imarray for i in a]\n",
    "    return feature\n",
    "\n",
    "def rgb2gray(rgb):\n",
    "    return np.dot(rgb[...,:3], [0.299, 0.587, 0.114])\n",
    "\n",
    "def read_pictures(filename):\n",
    "    file_name=filename\n",
    "    im = mpimg.imread(file_name)  \n",
    "    im_greyscale = rgb2gray(im)  "
   ]
  },
  {
   "cell_type": "code",
   "execution_count": 4,
   "metadata": {},
   "outputs": [],
   "source": [
    "file_name='images/BusStop.png'\n",
    "bus=feature_to_array(file_name) # array1\n",
    "\n",
    "file_name='images/Mosquito.png'\n",
    "mosquito=feature_to_array(file_name) # array4\n",
    "\n",
    "file_name='images/Str_Density.png'\n",
    "street=feature_to_array(file_name) # array5\n",
    "\n",
    "file_name='images/Trash.png'\n",
    "trash=feature_to_array(file_name) # array6\n",
    "\n",
    "file_name='images/Case.png'\n",
    "case=feature_to_array(file_name) # array2\n",
    "\n",
    "file_name='images/Land.png'\n",
    "land=feature_to_array(file_name) # array3"
   ]
  },
  {
   "cell_type": "code",
   "execution_count": 5,
   "metadata": {},
   "outputs": [],
   "source": [
    "#cases = list(case/np.max(case)) # Normalize\n",
    "inorout = list(1-(land/np.max(land))) # get binary value indicating whether pixel is inside Singapore or not"
   ]
  },
  {
   "cell_type": "code",
   "execution_count": 6,
   "metadata": {},
   "outputs": [
    {
     "data": {
      "text/html": [
       "<div>\n",
       "<style scoped>\n",
       "    .dataframe tbody tr th:only-of-type {\n",
       "        vertical-align: middle;\n",
       "    }\n",
       "\n",
       "    .dataframe tbody tr th {\n",
       "        vertical-align: top;\n",
       "    }\n",
       "\n",
       "    .dataframe thead th {\n",
       "        text-align: right;\n",
       "    }\n",
       "</style>\n",
       "<table border=\"1\" class=\"dataframe\">\n",
       "  <thead>\n",
       "    <tr style=\"text-align: right;\">\n",
       "      <th></th>\n",
       "      <th>0</th>\n",
       "      <th>1</th>\n",
       "      <th>2</th>\n",
       "      <th>3</th>\n",
       "      <th>4</th>\n",
       "    </tr>\n",
       "  </thead>\n",
       "  <tbody>\n",
       "    <tr>\n",
       "      <th>0</th>\n",
       "      <td>0.941176</td>\n",
       "      <td>0.941176</td>\n",
       "      <td>0.941176</td>\n",
       "      <td>0.941176</td>\n",
       "      <td>0.941176</td>\n",
       "    </tr>\n",
       "    <tr>\n",
       "      <th>1</th>\n",
       "      <td>0.941176</td>\n",
       "      <td>0.941176</td>\n",
       "      <td>0.941176</td>\n",
       "      <td>0.941176</td>\n",
       "      <td>0.941176</td>\n",
       "    </tr>\n",
       "    <tr>\n",
       "      <th>2</th>\n",
       "      <td>0.941176</td>\n",
       "      <td>0.941176</td>\n",
       "      <td>0.941176</td>\n",
       "      <td>0.941176</td>\n",
       "      <td>0.941176</td>\n",
       "    </tr>\n",
       "    <tr>\n",
       "      <th>3</th>\n",
       "      <td>0.941176</td>\n",
       "      <td>0.941176</td>\n",
       "      <td>0.941176</td>\n",
       "      <td>0.941176</td>\n",
       "      <td>0.941176</td>\n",
       "    </tr>\n",
       "    <tr>\n",
       "      <th>4</th>\n",
       "      <td>0.941176</td>\n",
       "      <td>0.941176</td>\n",
       "      <td>0.941176</td>\n",
       "      <td>0.941176</td>\n",
       "      <td>0.941176</td>\n",
       "    </tr>\n",
       "  </tbody>\n",
       "</table>\n",
       "</div>"
      ],
      "text/plain": [
       "          0         1         2         3         4\n",
       "0  0.941176  0.941176  0.941176  0.941176  0.941176\n",
       "1  0.941176  0.941176  0.941176  0.941176  0.941176\n",
       "2  0.941176  0.941176  0.941176  0.941176  0.941176\n",
       "3  0.941176  0.941176  0.941176  0.941176  0.941176\n",
       "4  0.941176  0.941176  0.941176  0.941176  0.941176"
      ]
     },
     "execution_count": 6,
     "metadata": {},
     "output_type": "execute_result"
    }
   ],
   "source": [
    "Data = pd.DataFrame([bus,street,trash,mosquito,case]).T\n",
    "Data.head()"
   ]
  },
  {
   "cell_type": "code",
   "execution_count": 7,
   "metadata": {},
   "outputs": [
    {
     "name": "stderr",
     "output_type": "stream",
     "text": [
      "/home/harry/SENG3011/ML/venv/lib/python3.6/site-packages/ipykernel_launcher.py:3: SettingWithCopyWarning: \n",
      "A value is trying to be set on a copy of a slice from a DataFrame.\n",
      "Try using .loc[row_indexer,col_indexer] = value instead\n",
      "\n",
      "See the caveats in the documentation: http://pandas.pydata.org/pandas-docs/stable/indexing.html#indexing-view-versus-copy\n",
      "  This is separate from the ipykernel package so we can avoid doing imports until\n"
     ]
    }
   ],
   "source": [
    "Data_filt = Data[np.array(inorout)==1.0] # filter dataset to only pixels within Singapore\n",
    "Data_filt.columns = ['BusStop','Street','Trash','Mosquito','Case']\n",
    "Data_filt['Case'] = np.where(Data_filt['Case']==0,1,0) # Transform Case label into 1 (=case) or 0 (=no case)"
   ]
  },
  {
   "cell_type": "code",
   "execution_count": 8,
   "metadata": {},
   "outputs": [
    {
     "data": {
      "text/html": [
       "<div>\n",
       "<style scoped>\n",
       "    .dataframe tbody tr th:only-of-type {\n",
       "        vertical-align: middle;\n",
       "    }\n",
       "\n",
       "    .dataframe tbody tr th {\n",
       "        vertical-align: top;\n",
       "    }\n",
       "\n",
       "    .dataframe thead th {\n",
       "        text-align: right;\n",
       "    }\n",
       "</style>\n",
       "<table border=\"1\" class=\"dataframe\">\n",
       "  <thead>\n",
       "    <tr style=\"text-align: right;\">\n",
       "      <th></th>\n",
       "      <th>BusStop</th>\n",
       "      <th>Street</th>\n",
       "      <th>Trash</th>\n",
       "      <th>Mosquito</th>\n",
       "      <th>Case</th>\n",
       "    </tr>\n",
       "  </thead>\n",
       "  <tbody>\n",
       "    <tr>\n",
       "      <th>147867</th>\n",
       "      <td>0.941176</td>\n",
       "      <td>0.941176</td>\n",
       "      <td>0.941176</td>\n",
       "      <td>0.941176</td>\n",
       "      <td>0</td>\n",
       "    </tr>\n",
       "    <tr>\n",
       "      <th>150112</th>\n",
       "      <td>0.941176</td>\n",
       "      <td>0.941176</td>\n",
       "      <td>0.941176</td>\n",
       "      <td>0.941176</td>\n",
       "      <td>0</td>\n",
       "    </tr>\n",
       "    <tr>\n",
       "      <th>150113</th>\n",
       "      <td>0.941176</td>\n",
       "      <td>0.941176</td>\n",
       "      <td>0.941176</td>\n",
       "      <td>0.941176</td>\n",
       "      <td>0</td>\n",
       "    </tr>\n",
       "    <tr>\n",
       "      <th>150114</th>\n",
       "      <td>0.941176</td>\n",
       "      <td>0.941176</td>\n",
       "      <td>0.941176</td>\n",
       "      <td>0.941176</td>\n",
       "      <td>0</td>\n",
       "    </tr>\n",
       "    <tr>\n",
       "      <th>151167</th>\n",
       "      <td>0.219608</td>\n",
       "      <td>0.121569</td>\n",
       "      <td>0.000000</td>\n",
       "      <td>0.941176</td>\n",
       "      <td>0</td>\n",
       "    </tr>\n",
       "  </tbody>\n",
       "</table>\n",
       "</div>"
      ],
      "text/plain": [
       "         BusStop    Street     Trash  Mosquito  Case\n",
       "147867  0.941176  0.941176  0.941176  0.941176     0\n",
       "150112  0.941176  0.941176  0.941176  0.941176     0\n",
       "150113  0.941176  0.941176  0.941176  0.941176     0\n",
       "150114  0.941176  0.941176  0.941176  0.941176     0\n",
       "151167  0.219608  0.121569  0.000000  0.941176     0"
      ]
     },
     "execution_count": 8,
     "metadata": {},
     "output_type": "execute_result"
    }
   ],
   "source": [
    "Data_filt.head()"
   ]
  },
  {
   "cell_type": "code",
   "execution_count": 9,
   "metadata": {},
   "outputs": [
    {
     "ename": "ModuleNotFoundError",
     "evalue": "No module named 'sklearn.grid_search'",
     "output_type": "error",
     "traceback": [
      "\u001b[0;31m---------------------------------------------------------------------------\u001b[0m",
      "\u001b[0;31mModuleNotFoundError\u001b[0m                       Traceback (most recent call last)",
      "\u001b[0;32m<ipython-input-9-183bed93c252>\u001b[0m in \u001b[0;36m<module>\u001b[0;34m\u001b[0m\n\u001b[1;32m      1\u001b[0m \u001b[0;32mfrom\u001b[0m \u001b[0msklearn\u001b[0m\u001b[0;34m.\u001b[0m\u001b[0mensemble\u001b[0m \u001b[0;32mimport\u001b[0m \u001b[0mRandomForestClassifier\u001b[0m\u001b[0;34m\u001b[0m\u001b[0;34m\u001b[0m\u001b[0m\n\u001b[0;32m----> 2\u001b[0;31m \u001b[0;32mfrom\u001b[0m \u001b[0msklearn\u001b[0m\u001b[0;34m.\u001b[0m\u001b[0mgrid_search\u001b[0m \u001b[0;32mimport\u001b[0m \u001b[0mGridSearchCV\u001b[0m\u001b[0;34m\u001b[0m\u001b[0;34m\u001b[0m\u001b[0m\n\u001b[0m\u001b[1;32m      3\u001b[0m \u001b[0;32mfrom\u001b[0m \u001b[0msklearn\u001b[0m\u001b[0;34m.\u001b[0m\u001b[0mcross_validation\u001b[0m \u001b[0;32mimport\u001b[0m \u001b[0mtrain_test_split\u001b[0m\u001b[0;34m\u001b[0m\u001b[0;34m\u001b[0m\u001b[0m\n\u001b[1;32m      4\u001b[0m \u001b[0;32mfrom\u001b[0m \u001b[0msklearn\u001b[0m\u001b[0;34m.\u001b[0m\u001b[0mmetrics\u001b[0m \u001b[0;32mimport\u001b[0m \u001b[0maccuracy_score\u001b[0m\u001b[0;34m\u001b[0m\u001b[0;34m\u001b[0m\u001b[0m\n\u001b[1;32m      5\u001b[0m \u001b[0;32mfrom\u001b[0m \u001b[0msklearn\u001b[0m\u001b[0;34m.\u001b[0m\u001b[0mcross_validation\u001b[0m \u001b[0;32mimport\u001b[0m \u001b[0mKFold\u001b[0m\u001b[0;34m\u001b[0m\u001b[0;34m\u001b[0m\u001b[0m\n",
      "\u001b[0;31mModuleNotFoundError\u001b[0m: No module named 'sklearn.grid_search'"
     ]
    }
   ],
   "source": [
    "from sklearn.ensemble import RandomForestClassifier\n",
    "from sklearn.grid_search import GridSearchCV\n",
    "from sklearn.cross_validation import train_test_split\n",
    "from sklearn.metrics import accuracy_score\n",
    "from sklearn.cross_validation import KFold\n",
    "from sklearn.metrics import roc_auc_score\n",
    "from sklearn.metrics import confusion_matrix\n",
    "import statsmodels.formula.api as smf"
   ]
  },
  {
   "cell_type": "code",
   "execution_count": null,
   "metadata": {},
   "outputs": [],
   "source": [
    "X = Data_filt[['BusStop','Street','Trash','Mosquito']]\n",
    "Y = Data_filt['Case']\n",
    "\n",
    "X_train, X_test = train_test_split(X, test_size=0.2, random_state=21)\n",
    "Y_train, Y_test = train_test_split(Y, test_size=0.2, random_state=21)"
   ]
  },
  {
   "cell_type": "code",
   "execution_count": null,
   "metadata": {},
   "outputs": [],
   "source": [
    "def get_results(n_components,max_features,criterion,n_estimators,X,Y):\n",
    "    kf = KFold(n=len(X), n_folds=12, shuffle=True, random_state=21)\n",
    "    d = []\n",
    "    for train_index, test_index in kf:\n",
    "        for rf_features,criter,rf_estimators in itertools.product(max_features,criterion,n_estimators):\n",
    "            X_tr, X_test = X[train_index], X[test_index]\n",
    "            X_train, X_validation = train_test_split(X_tr, test_size=0.2, random_state=21)\n",
    "            Y_tr, Y_test = Y[train_index], Y[test_index]\n",
    "            Y_train, Y_validation = train_test_split(Y_tr, test_size=0.2, random_state=21)\n",
    "            del X_tr\n",
    "            del Y_tr\n",
    "            forest = RandomForestClassifier(bootstrap=True, class_weight=None, criterion=criter,\n",
    "                    max_depth=None, max_features=rf_features, max_leaf_nodes=None,\n",
    "                    min_samples_leaf=1, min_samples_split=2,\n",
    "                    min_weight_fraction_leaf=0.0, n_estimators=rf_estimators, n_jobs=1,\n",
    "                    oob_score=False, random_state=21, verbose=0,\n",
    "                    warm_start=False)\n",
    "            forest.fit(X_train,Y_train)\n",
    "            forest_pred = forest.predict(X_validation)\n",
    "            name = '%s,%s,%s'%(str(rf_features),str(criter),str(rf_estimators))\n",
    "            d.append((name,roc_auc_score(Y_validation,forest_pred),X_train,X_test,Y_train,Y_test))\n",
    "    return sorted(d, key=lambda tup: tup[1])[-1]"
   ]
  },
  {
   "cell_type": "code",
   "execution_count": null,
   "metadata": {},
   "outputs": [],
   "source": [
    "n_components = [1,2,3]\n",
    "max_features = ['auto','sqrt','log2']\n",
    "criterion = ['gini','entropy']\n",
    "n_estimators = [3,5,9,12,20,35] # Check some possible estimators\n",
    "n_estimators = [35,40,45]\n",
    "\n",
    "# Get the best parameters\n",
    "best = get_results(n_components,max_features,criterion,n_estimators,X.as_matrix(),Y.as_matrix())\n",
    "best_params,X_train_best,X_test_best,Y_train_best,Y_test_best = best[0].split(','),best[2],best[3],best[4],best[5]\n",
    "\n",
    "# Run RF\n",
    "forest = RandomForestClassifier(bootstrap=True, class_weight=None, criterion=best_params[1],\n",
    "                max_depth=None, max_features=best_params[0], max_leaf_nodes=None,\n",
    "                min_samples_leaf=1, min_samples_split=2,\n",
    "                min_weight_fraction_leaf=0.0, n_estimators=int(best_params[2]), n_jobs=1,\n",
    "                oob_score=False, random_state=21, verbose=0,\n",
    "                warm_start=False)\n",
    "forest.fit(X_train_best,Y_train_best)\n",
    "Data_filt['LabelsRF'] = forest.predict(X)\n",
    "\n",
    "# Get results\n",
    "print(accuracy_score(Y_test_best,forest.predict(X_test_best)))\n",
    "print(roc_auc_score(Y_test_best,forest.predict(X_test_best)))"
   ]
  },
  {
   "cell_type": "code",
   "execution_count": null,
   "metadata": {},
   "outputs": [],
   "source": [
    "print(confusion_matrix(Y, Data_filt['LabelsRF']))"
   ]
  },
  {
   "cell_type": "code",
   "execution_count": null,
   "metadata": {},
   "outputs": [],
   "source": [
    "# http://blog.datadive.net/selecting-good-features-part-iii-random-forests/"
   ]
  },
  {
   "cell_type": "code",
   "execution_count": null,
   "metadata": {},
   "outputs": [],
   "source": [
    "Data_filt.head()"
   ]
  },
  {
   "cell_type": "code",
   "execution_count": null,
   "metadata": {},
   "outputs": [],
   "source": [
    "Data_filt.LabelsRF.value_counts()"
   ]
  },
  {
   "cell_type": "code",
   "execution_count": null,
   "metadata": {},
   "outputs": [],
   "source": [
    "from PIL import Image\n",
    "file_name='Raster_images/Land.png'\n",
    "m=numpy.array(Image.open(file_name)).shape[0]\n",
    "n=numpy.array(Image.open(file_name)).shape[1]\n",
    "def indexes(m,n):    \n",
    "    index_2dim={}\n",
    "    for M in range(0,m*n):\n",
    "        index_2dim[M]={'i':int(M)/int(n), 'j':M-((int(M)/int(n))*n)}\n",
    "    return index_2dim\n",
    "original_index_dict=indexes(m,n)"
   ]
  },
  {
   "cell_type": "code",
   "execution_count": null,
   "metadata": {},
   "outputs": [],
   "source": [
    "#0 disease, 1 no disease, 2 outside singapore \n",
    "matrix = np.zeros((m,n))+2\n",
    "for M in Data_filt.index:\n",
    "    i=original_index_dict[M]['i']\n",
    "    j=original_index_dict[M]['j']\n",
    "    matrix[i][j]=Data_filt.LabelsRF[M]\n",
    "m_l=matrix.tolist()\n",
    "fig, ax = subplots(figsize=(12, 12))\n",
    "plt.imshow(m_l, interpolation='nearest', cmap='hot', extent=(0.5,10.5,0.5,10.5))\n",
    "plt.colorbar()\n",
    "#plt.show()"
   ]
  },
  {
   "cell_type": "code",
   "execution_count": null,
   "metadata": {},
   "outputs": [],
   "source": [
    "# Get the best parameters\n",
    "best_ = get_results(n_components,max_features,criterion,n_estimators,X[['BusStop','Street','Trash']].as_matrix(),Y.as_matrix())\n",
    "best_params,X_train_best,X_test_best,Y_train_best,Y_test_best = best_[0].split(','),best_[2],best_[3],best_[4],best_[5]\n",
    "\n",
    "# Run RF\n",
    "forest = RandomForestClassifier(bootstrap=True, class_weight=None, criterion=best_params[1],\n",
    "                max_depth=None, max_features=best_params[0], max_leaf_nodes=None,\n",
    "                min_samples_leaf=1, min_samples_split=2,\n",
    "                min_weight_fraction_leaf=0.0, n_estimators=int(best_params[2]), n_jobs=1,\n",
    "                oob_score=False, random_state=21, verbose=0,\n",
    "                warm_start=False)\n",
    "forest.fit(X_train_best,Y_train_best)\n",
    "#Data_filt['LabelsRF'] = forest.predict(X)\n",
    "\n",
    "# Get results\n",
    "print accuracy_score(Y_test_best,forest.predict(X_test_best))\n",
    "print roc_auc_score(Y_test_best,forest.predict(X_test_best))"
   ]
  },
  {
   "cell_type": "code",
   "execution_count": null,
   "metadata": {},
   "outputs": [],
   "source": []
  }
 ],
 "metadata": {
  "kernelspec": {
   "display_name": "Python 3",
   "language": "python",
   "name": "python3"
  },
  "language_info": {
   "codemirror_mode": {
    "name": "ipython",
    "version": 3
   },
   "file_extension": ".py",
   "mimetype": "text/x-python",
   "name": "python",
   "nbconvert_exporter": "python",
   "pygments_lexer": "ipython3",
   "version": "3.6.7"
  }
 },
 "nbformat": 4,
 "nbformat_minor": 1
}
